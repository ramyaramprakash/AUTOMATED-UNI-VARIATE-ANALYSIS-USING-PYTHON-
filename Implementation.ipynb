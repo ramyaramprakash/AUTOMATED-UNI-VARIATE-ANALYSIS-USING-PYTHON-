{
 "cells": [
  {
   "cell_type": "code",
   "execution_count": 1,
   "metadata": {},
   "outputs": [],
   "source": [
    "import pandas as pd\n",
    "import Graphfunction"
   ]
  },
  {
   "cell_type": "code",
   "execution_count": 3,
   "metadata": {},
   "outputs": [],
   "source": [
    "data=pd.read_csv(\"C:\\\\Users\\\\Ramya Ramprakash\\\\Python Praxis\\\\Machine Learning\\\\cars.csv\")\n",
    "Graphfunction.Graphs0(data)\n",
    "Graphfunction.Graphs1_2(data,[2,4])\n",
    "Graphfunction.Graphs1_2(data)\n",
    "Graphfunction.Graphs3(data)\n",
    "Graphfunction.Graphs3(data,[0,5,8])\n",
    "Graphfunction.Graphs4(data,col_number=[1],directory=\"C:\\\\Users\\\\Ramya Ramprakash\\\\Python Praxis\\\\Machine Learning\")\n",
    "\n"
   ]
  },
  {
   "cell_type": "code",
   "execution_count": null,
   "metadata": {},
   "outputs": [],
   "source": []
  }
 ],
 "metadata": {
  "kernelspec": {
   "display_name": "Python 3",
   "language": "python",
   "name": "python3"
  },
  "language_info": {
   "codemirror_mode": {
    "name": "ipython",
    "version": 3
   },
   "file_extension": ".py",
   "mimetype": "text/x-python",
   "name": "python",
   "nbconvert_exporter": "python",
   "pygments_lexer": "ipython3",
   "version": "3.6.5"
  }
 },
 "nbformat": 4,
 "nbformat_minor": 2
}
